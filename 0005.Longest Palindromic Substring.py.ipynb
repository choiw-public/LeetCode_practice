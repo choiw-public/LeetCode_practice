{
 "cells": [
  {
   "cell_type": "markdown",
   "metadata": {},
   "source": [
    "# Problem definition"
   ]
  },
  {
   "cell_type": "markdown",
   "metadata": {},
   "source": [
    "Given a string s, return the longest palindromic substring in s.\n",
    "\n",
    "<b> Example1: </b>\n",
    "```\n",
    "Input: s = \"babad\"\n",
    "Output: \"bab\"\n",
    "Note: \"aba\" is also a valid answer.\n",
    "```\n",
    "\n",
    "<b> Example2: </b>\n",
    "```\n",
    "Input: s = \"cbbd\"\n",
    "Output: \"bb\"\n",
    "```\n",
    "\n",
    "<b> Example3: </b>\n",
    "```\n",
    "Input: s = \"a\"\n",
    "Output: \"a\"\n",
    "```\n",
    "\n",
    "<b> Example4: </b>\n",
    "```\n",
    "Input: s = \"ac\"\n",
    "Output: \"a\"\n",
    "```\n",
    "\n",
    "<b> Constraints: </b>\n",
    "```\n",
    "1 <= s.length <= 1000\n",
    "s consist of only digits and English letters (lower-case and/or upper-case),\n",
    "```"
   ]
  },
  {
   "cell_type": "markdown",
   "metadata": {},
   "source": [
    "# Things that I should remember"
   ]
  },
  {
   "cell_type": "markdown",
   "metadata": {},
   "source": [
    "In the helper function, <b> def helper(l, r) </b>\n",
    "\n",
    "Be aware that <b> s[l] == s[r] </b> should not be the first statement of the while loop.\n",
    "\n",
    "For example, this below code will return <b> error </b>.\n",
    "```\n",
    "while  s[l] == s[r] and l >= 0 and r < len(s):\n",
    "    ...\n",
    "\n",
    "```\n",
    "\n",
    "\n"
   ]
  },
  {
   "cell_type": "code",
   "execution_count": null,
   "metadata": {},
   "outputs": [],
   "source": [
    "class Solution:\n",
    "    def longestPalindrome(self, s):\n",
    "        def helper(l, r):\n",
    "            \"\"\"\n",
    "            Be careful. \"s[l] == s[r]\" should not be the beginning of the while statement below.\n",
    "            \"\"\"\n",
    "            while l >= 0 and r < len(s) and s[l] == s[r]:\n",
    "                l -= 1\n",
    "                r += 1\n",
    "            return s[l + 1:r]\n",
    "\n",
    "        res = \"\"\n",
    "        for i in range(len(s)):\n",
    "            test = helper(i, i)\n",
    "            if len(test) > len(res): res = test\n",
    "            test = helper(i, i + 1)\n",
    "            if len(test) > len(res): res = test\n",
    "        return res"
   ]
  },
  {
   "cell_type": "markdown",
   "metadata": {},
   "source": [
    "more natural way can be written as below"
   ]
  },
  {
   "cell_type": "code",
   "execution_count": null,
   "metadata": {},
   "outputs": [],
   "source": [
    "class Solution:\n",
    "    def longestPalindrome(self, s):\n",
    "        def helper(l, r):\n",
    "            \"\"\"\n",
    "            Be careful. \"s[l] == s[r]\" should not be the beginning of the while statement below.\n",
    "            \"\"\"\n",
    "            while l >= 0 and r < len(s) :\n",
    "                if s[l] == s[r]:\n",
    "                    l -= 1\n",
    "                    r += 1\n",
    "            return s[l + 1:r]\n",
    "\n",
    "        res = \"\"\n",
    "        for i in range(len(s)):\n",
    "            test = helper(i, i)\n",
    "            if len(test) > len(res): res = test\n",
    "            test = helper(i, i + 1)\n",
    "            if len(test) > len(res): res = test\n",
    "        return res"
   ]
  }
 ],
 "metadata": {
  "kernelspec": {
   "display_name": "Python 3",
   "language": "python",
   "name": "python3"
  },
  "language_info": {
   "codemirror_mode": {
    "name": "ipython",
    "version": 3
   },
   "file_extension": ".py",
   "mimetype": "text/x-python",
   "name": "python",
   "nbconvert_exporter": "python",
   "pygments_lexer": "ipython3",
   "version": "3.7.7"
  }
 },
 "nbformat": 4,
 "nbformat_minor": 4
}
