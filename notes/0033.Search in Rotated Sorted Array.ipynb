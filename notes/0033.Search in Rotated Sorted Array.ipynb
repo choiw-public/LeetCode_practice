{
 "cells": [
  {
   "cell_type": "markdown",
   "metadata": {},
   "source": [
    "### Description\n",
    "url: https://leetcode.com/problems/search-in-rotated-sorted-array/\n",
    "\n",
    "You are given an integer array nums sorted in ascending order, and an integer target.\n",
    "\n",
    "Suppose that nums is rotated at some pivot unknown to you beforehand (i.e., [0,1,2,4,5,6,7] might become [4,5,6,7,0,1,2]).\n",
    "\n",
    "If target is found in the array return its index, otherwise, return -1."
   ]
  },
  {
   "cell_type": "markdown",
   "metadata": {
    "pycharm": {
     "name": "#%% md\n"
    }
   },
   "source": [
    "### Personal note\n",
    "* Use binary search.\n",
    "* Logic\n",
    "```\n",
    "if left sorted\n",
    "    if target exists in left side\n",
    "        go to left\n",
    "    else\n",
    "        go to right\n",
    "else if right sorted\n",
    "    if target exists in right side\n",
    "        go to right\n",
    "    else\n",
    "        go to left side\n",
    "```\n"
   ]
  },
  {
   "cell_type": "code",
   "execution_count": 1,
   "metadata": {
    "pycharm": {
     "name": "#%%\n"
    }
   },
   "outputs": [],
   "source": [
    "class Solution(object):\n",
    "    def search(self, nums, target):\n",
    "        left, right = 0, len(nums) - 1\n",
    "\n",
    "        while left <= right:\n",
    "            middle = (left + right) // 2\n",
    "\n",
    "            if target == nums[middle]:\n",
    "                return middle\n",
    "\n",
    "            if nums[left] <= nums[middle]:  # left sorted\n",
    "                if nums[left] <= target < nums[middle]:  # go to left\n",
    "                    right = middle - 1\n",
    "                else:  # go to right\n",
    "                    left = middle + 1\n",
    "            else:  # right sorted\n",
    "                if nums[middle] < target <= nums[right]:  # go to right\n",
    "                    left = middle + 1\n",
    "                else:\n",
    "                    right = middle - 1\n",
    "        return -1"
   ]
  }
 ],
 "metadata": {
  "kernelspec": {
   "display_name": "Python 3",
   "language": "python",
   "name": "python3"
  },
  "language_info": {
   "codemirror_mode": {
    "name": "ipython",
    "version": 3
   },
   "file_extension": ".py",
   "mimetype": "text/x-python",
   "name": "python",
   "nbconvert_exporter": "python",
   "pygments_lexer": "ipython3",
   "version": "3.7.6"
  }
 },
 "nbformat": 4,
 "nbformat_minor": 4
}
