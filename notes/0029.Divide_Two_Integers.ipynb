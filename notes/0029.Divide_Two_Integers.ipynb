{
 "cells": [
  {
   "cell_type": "markdown",
   "metadata": {},
   "source": [
    "### Description\n",
    "url: https://leetcode.com/problems/divide-two-integers/\n",
    "\n",
    "Given two integers `dividend` and `divisor`, divide two integers <b>without using multiplication, division, and mod operator. <b/>"
   ]
  },
  {
   "cell_type": "markdown",
   "metadata": {
    "pycharm": {
     "name": "#%% md\n"
    }
   },
   "source": [
    "### Personal note\n",
    "* If `without using multiplication, division, and mod operator...` then it will be related to bitwise operation\n",
    "* Need to know left shift `<<` \n",
    "* `~x` means `-x-1` \n",
    "* Python bitwise operators: https://wiki.python.org/moin/BitwiseOperators"
   ]
  },
  {
   "cell_type": "code",
   "execution_count": 1,
   "metadata": {
    "pycharm": {
     "name": "#%%\n"
    }
   },
   "outputs": [],
   "source": [
    "def divide(dividend: int, divisor: int) -> int:\n",
    "    if dividend < -2**31 and divisor == -1:\n",
    "        return 2**31-1\n",
    "    if divisor == 1:\n",
    "        return dividend\n",
    "    negative = (dividend < 0) ^ (divisor < 0)\n",
    "    dividend = abs(dividend)\n",
    "    divisor = abs(divisor)\n",
    "    res = 0\n",
    "\n",
    "    while dividend >= divisor:\n",
    "        tmp = divisor\n",
    "        m = 1\n",
    "        while (tmp << 1) <= dividend:\n",
    "            tmp <<= 1\n",
    "            m <<= 1  # I am doubling m\n",
    "        dividend -= tmp\n",
    "        res += m\n",
    "\n",
    "    if not negative:\n",
    "        return res\n",
    "    else:\n",
    "        return ~res + 1"
   ]
  }
 ],
 "metadata": {
  "kernelspec": {
   "display_name": "Python 3",
   "language": "python",
   "name": "python3"
  },
  "language_info": {
   "codemirror_mode": {
    "name": "ipython",
    "version": 3
   },
   "file_extension": ".py",
   "mimetype": "text/x-python",
   "name": "python",
   "nbconvert_exporter": "python",
   "pygments_lexer": "ipython3",
   "version": "3.7.6"
  }
 },
 "nbformat": 4,
 "nbformat_minor": 4
}
