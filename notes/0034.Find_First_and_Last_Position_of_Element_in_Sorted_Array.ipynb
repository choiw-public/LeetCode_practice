{
 "cells": [
  {
   "cell_type": "markdown",
   "metadata": {},
   "source": [
    "### Description\n",
    "url: https://leetcode.com/problems/string-to-integer-atoi/\n",
    "\n",
    "Implement ```atoi``` which converts a string to an integer.\n",
    "\n",
    "The function first discards as many whitespace characters as necessary until the first non-whitespace character is found. Then, starting from this character takes an optional initial plus or minus sign followed by as many numerical digits as possible, and interprets them as a numerical value.\n",
    "\n",
    "The string can contain additional characters after those that form the integral number, which are ignored and have no effect on the behavior of this function.\n",
    "\n",
    "If the first sequence of non-whitespace characters in str is not a valid integral number, or if no such sequence exists because either str is empty or it contains only whitespace characters, no conversion is performed.\n",
    "\n",
    "If no valid conversion could be performed, a zero value is returned."
   ]
  },
  {
   "cell_type": "markdown",
   "metadata": {
    "pycharm": {
     "name": "#%% md\n"
    }
   },
   "source": [
    "### Personal note\n",
    "\n",
    "Read the description carefully\n",
    "* ```first discards as many whitespace characters as necessary until the first non-whitespace character is found```\n",
    "\n",
    "There are many edge cases\n",
    "* '1.111111' (float)\n",
    "* '+123123' or '123123'"
   ]
  },
  {
   "cell_type": "code",
   "execution_count": 1,
   "metadata": {
    "pycharm": {
     "name": "#%%\n"
    }
   },
   "outputs": [],
   "source": [
    "class Solution(object):\n",
    "    def myAtoi(self, s):\n",
    "        \"\"\"\n",
    "        :type s: str\n",
    "        :rtype: int\n",
    "        \"\"\"\n",
    "        # step0: discard beginning white spaces\n",
    "        # step1: consider plus or minus sign followed by as many numerical digits as possible        \n",
    "        # step2: interpret them a s a numerical value\n",
    "        \n",
    "        # additional characters after integral number are ignored\n",
    "        # if no sequence exists or the first sequence is not number, no conversion.\n",
    "        \n",
    "        # no conversion -> zero.\n",
    "        s = s.strip()\n",
    "        \n",
    "        if not s:\n",
    "            return 0\n",
    "        \n",
    "        sign = 1\n",
    "        if '-' == s[0]:\n",
    "            sign = - 1\n",
    "            s = s[1::]\n",
    "        elif '+' == s[0]:\n",
    "            s = s[1::]\n",
    "        \n",
    "        # iterate until meet a character \n",
    "        num = \"\"\n",
    "        for letter in s:\n",
    "            if letter.isnumeric():\n",
    "                num += letter\n",
    "            else:\n",
    "                break\n",
    "        if num:\n",
    "            num = int(float(num)) * sign\n",
    "            return min(max(-2**31, num), 2**31 -1)               \n",
    "        else:\n",
    "            return 0"
   ]
  }
 ],
 "metadata": {
  "kernelspec": {
   "display_name": "Python 3",
   "language": "python",
   "name": "python3"
  },
  "language_info": {
   "codemirror_mode": {
    "name": "ipython",
    "version": 3
   },
   "file_extension": ".py",
   "mimetype": "text/x-python",
   "name": "python",
   "nbconvert_exporter": "python",
   "pygments_lexer": "ipython3",
   "version": "3.7.7"
  }
 },
 "nbformat": 4,
 "nbformat_minor": 4
}
