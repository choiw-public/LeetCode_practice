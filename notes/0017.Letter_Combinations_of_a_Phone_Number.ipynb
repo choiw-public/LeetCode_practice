{
 "cells": [
  {
   "cell_type": "markdown",
   "metadata": {},
   "source": [
    "### Description\n",
    "url: https://leetcode.com/problems/letter-combinations-of-a-phone-number/"
   ]
  },
  {
   "cell_type": "markdown",
   "metadata": {
    "pycharm": {
     "name": "#%% md\n"
    }
   },
   "source": [
    "### Personal note\n",
    "* Consider recursion next time."
   ]
  },
  {
   "cell_type": "code",
   "execution_count": 1,
   "metadata": {
    "pycharm": {
     "name": "#%%\n"
    }
   },
   "outputs": [],
   "source": [
    "class Solution(object):\n",
    "    def letterCombinations(self, digits):\n",
    "        h_table = {'2': ['a', 'b', 'c'],\n",
    "                   '3': ['d', 'e', 'f'],\n",
    "                   '4': ['g', 'h', 'i'],\n",
    "                   '5': ['j', 'k', 'l'],\n",
    "                   '6': ['m', 'n', 'o'],\n",
    "                   '7': ['p', 'q', 'r', 's'],\n",
    "                   '8': ['t', 'u', 'v'],\n",
    "                   '9': ['w', 'x', 'y', 'z']}\n",
    "        if len(digits) == 0:\n",
    "            return []\n",
    "        \n",
    "        combinations = [\"\"]\n",
    "        def update_combination(prev_combinations, num):\n",
    "            if num not in h_table:\n",
    "                return prev_combination\n",
    "        \n",
    "            new_combinations = []\n",
    "            for _ in prev_combinations:\n",
    "                for letter in h_table[num]:\n",
    "                    new_combinations.append(_+letter)\n",
    "            return new_combinations\n",
    "                    \n",
    "        for digit in digits:\n",
    "            combinations = update_combination(combinations, digit)\n",
    "            \n",
    "        return combinations"
   ]
  }
 ],
 "metadata": {
  "kernelspec": {
   "display_name": "Python 3",
   "language": "python",
   "name": "python3"
  },
  "language_info": {
   "codemirror_mode": {
    "name": "ipython",
    "version": 3
   },
   "file_extension": ".py",
   "mimetype": "text/x-python",
   "name": "python",
   "nbconvert_exporter": "python",
   "pygments_lexer": "ipython3",
   "version": "3.7.7"
  }
 },
 "nbformat": 4,
 "nbformat_minor": 4
}
