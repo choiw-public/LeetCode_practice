{
 "cells": [
  {
   "cell_type": "markdown",
   "metadata": {},
   "source": [
    "### Description\n",
    "url: https://leetcode.com/problems/two-sum-ii-input-array-is-sorted/\n",
    "\n",
    "Given an array of integers that is already sorted in ascending order, find two numbers such that they add up to a specific target number.\n",
    "\n",
    "The function twoSum should return indices of the two numbers such that they add up to the target, where index1 must be less than index2.\n",
    "\n",
    "Note:\n",
    "\n",
    "    Your returned answers (both index1 and index2) are not zero-based.\n",
    "    You may assume that each input would have exactly one solution and you may not use the same element twice.\n"
   ]
  },
  {
   "cell_type": "markdown",
   "metadata": {
    "pycharm": {
     "name": "#%% md\n"
    }
   },
   "source": [
    "### Personal note\n",
    "* know <b>zero-based index</b>\n",
    "* hash table requires more memory"
   ]
  },
  {
   "cell_type": "code",
   "execution_count": 1,
   "metadata": {
    "pycharm": {
     "name": "#%%\n"
    }
   },
   "outputs": [],
   "source": [
    "# using two pointer\n",
    "class Solution1(object):\n",
    "    def twoSum(self, numbers, target):\n",
    "        l, r = 0, len(numbers)-1\n",
    "        \n",
    "        while l < r:\n",
    "            if numbers[l] + numbers[r] < target:\n",
    "                l+=1\n",
    "            elif numbers[l] + numbers[r] > target:\n",
    "                r-=1\n",
    "            else:\n",
    "                return [l+1, r+1]\n",
    "        return None"
   ]
  },
  {
   "cell_type": "code",
   "execution_count": null,
   "metadata": {},
   "outputs": [],
   "source": [
    "# using hash table\n",
    "class Solution(object):\n",
    "    def twoSum(self, numbers, target):\n",
    "        h_table = {}        \n",
    "        for i, n in enumerate(numbers):\n",
    "            comp = target - n\n",
    "            if comp in h_table:\n",
    "                return [h_table[comp]+1, i+1]\n",
    "            h_table[n] = i\n",
    "        return None"
   ]
  }
 ],
 "metadata": {
  "kernelspec": {
   "display_name": "Python 3",
   "language": "python",
   "name": "python3"
  },
  "language_info": {
   "codemirror_mode": {
    "name": "ipython",
    "version": 3
   },
   "file_extension": ".py",
   "mimetype": "text/x-python",
   "name": "python",
   "nbconvert_exporter": "python",
   "pygments_lexer": "ipython3",
   "version": "3.7.7"
  }
 },
 "nbformat": 4,
 "nbformat_minor": 4
}
