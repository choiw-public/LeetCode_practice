{
 "cells": [
  {
   "cell_type": "markdown",
   "metadata": {},
   "source": [
    "### Description\n",
    "url: https://leetcode.com/problems/4sum/"
   ]
  },
  {
   "cell_type": "markdown",
   "metadata": {
    "pycharm": {
     "name": "#%% md\n"
    }
   },
   "source": [
    "### Personal note\n",
    "\n",
    "* Remind 3Sum\n",
    "\n",
    "Mistakes:\n",
    "* improperly assigned `j`. The first `j` should be after `i`\n"
   ]
  },
  {
   "cell_type": "code",
   "execution_count": 1,
   "metadata": {
    "pycharm": {
     "name": "#%%\n"
    }
   },
   "outputs": [],
   "source": [
    "class Solution(object):\n",
    "    def fourSum(self, nums, target):       \n",
    "        if not nums or len(nums) <=3:\n",
    "            return []\n",
    "        \n",
    "        nums.sort()        \n",
    "        quadruplets = []\n",
    "        \n",
    "        for i in range(len(nums)-3):\n",
    "            if i != 0 and nums[i] == nums[i-1]:\n",
    "                continue            \n",
    "            a = nums[i]\n",
    "            \n",
    "            for j in range(i+1, len(nums)-2):\n",
    "                if j > i+1 and nums[j] == nums[j-1]:\n",
    "                    continue\n",
    "                b = nums[j]\n",
    "                left, right = j+1, len(nums)-1\n",
    "                \n",
    "                while left < right:\n",
    "                    c = nums[left]\n",
    "                    d = nums[right]\n",
    "                    \n",
    "                    diff = a+b+c+d - target\n",
    "                    \n",
    "                    if diff < 0:\n",
    "                        left += 1\n",
    "                    elif diff > 0:\n",
    "                        right -= 1\n",
    "                    else: # diff == 0 \n",
    "                        quadruplets.append([a, b, c, d])\n",
    "                        left +=1\n",
    "                        while left < right and nums[left] == nums[left-1]:\n",
    "                            left +=1\n",
    "        return quadruplets"
   ]
  },
  {
   "cell_type": "code",
   "execution_count": null,
   "metadata": {},
   "outputs": [],
   "source": []
  }
 ],
 "metadata": {
  "kernelspec": {
   "display_name": "Python 3",
   "language": "python",
   "name": "python3"
  },
  "language_info": {
   "codemirror_mode": {
    "name": "ipython",
    "version": 3
   },
   "file_extension": ".py",
   "mimetype": "text/x-python",
   "name": "python",
   "nbconvert_exporter": "python",
   "pygments_lexer": "ipython3",
   "version": "3.7.6"
  }
 },
 "nbformat": 4,
 "nbformat_minor": 4
}
