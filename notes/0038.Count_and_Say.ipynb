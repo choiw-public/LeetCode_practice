{
 "cells": [
  {
   "cell_type": "markdown",
   "metadata": {},
   "source": [
    "### Description\n",
    "url: https://leetcode.com/problems/count-and-say/\n",
    "\n",
    "The count-and-say sequence is a sequence of digit strings defined by the recursive formula:\n",
    "\n",
    "    countAndSay(1) = \"1\"\n",
    "    countAndSay(n) is the way you would \"say\" the digit string from countAndSay(n-1), which is then converted into a different digit string.\n"
   ]
  },
  {
   "cell_type": "markdown",
   "metadata": {
    "pycharm": {
     "name": "#%% md\n"
    }
   },
   "source": [
    "### Personal note\n",
    "\n",
    "n=1: `1` <br/>\n",
    "n=2: `1` = one `1` → `11` <br/>\n",
    "n=3: `11` = two `1` → `21` <br/>\n",
    "n=4: `21` = one `2`, one `1` → `1211` <br/>\n",
    "n=5: `1211` = one `1`, one `2`, two `1`→ `111221`<br/>\n",
    "n=6: `111221` = three `1`, two `2`, one `1`→ `312211`<br/>\n",
    "...\n"
   ]
  },
  {
   "cell_type": "code",
   "execution_count": 1,
   "metadata": {
    "pycharm": {
     "name": "#%%\n"
    }
   },
   "outputs": [],
   "source": [
    "class Solution(object):\n",
    "    def countAndSay(self, n):\n",
    "        \"\"\"\n",
    "        :type n: int\n",
    "        :rtype: str\n",
    "        \"\"\"\n",
    "        if n == 1:\n",
    "            return '1'\n",
    "        holder, tmp = '1', ''\n",
    "        for i in range(n-1):\n",
    "            count = 1\n",
    "            for j in range(len(holder) -1):\n",
    "                if holder[j] == holder[j+1]:\n",
    "                    count +=1\n",
    "                else:\n",
    "                    tmp += str(count)+holder[j]\n",
    "                    count = 1\n",
    "            holder = tmp+str(count) + holder[-1]\n",
    "            tmp = ''\n",
    "        return holder"
   ]
  }
 ],
 "metadata": {
  "kernelspec": {
   "display_name": "Python 3",
   "language": "python",
   "name": "python3"
  },
  "language_info": {
   "codemirror_mode": {
    "name": "ipython",
    "version": 3
   },
   "file_extension": ".py",
   "mimetype": "text/x-python",
   "name": "python",
   "nbconvert_exporter": "python",
   "pygments_lexer": "ipython3",
   "version": "3.7.6"
  }
 },
 "nbformat": 4,
 "nbformat_minor": 4
}
