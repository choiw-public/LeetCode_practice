{
 "cells": [
  {
   "cell_type": "markdown",
   "metadata": {},
   "source": [
    "### Description"
   ]
  },
  {
   "cell_type": "markdown",
   "metadata": {},
   "source": [
    "https://leetcode.com/problems/longest-substring-without-repeating-characters/\n",
    "\n",
    "Given a string ```s```, find the length of the longest substring without repeating characters.\n",
    "\n",
    "<b> Example1: </b>\n",
    "```\n",
    "Input: s = \"abcabcbb\"\n",
    "Output: 3\n",
    "Explanation: The answer is \"abc\", with the length of\n",
    "```\n",
    "\n",
    "<b> Example2: </b>\n",
    "```\n",
    "Input: s = \"bbbbb\"\n",
    "Output: 1\n",
    "Explanation: The answer is \"b\", with the length of 1.\n",
    "```\n",
    "\n",
    "<b> Example3: </b>\n",
    "```\n",
    "Input: s = \"pwwkew\"\n",
    "Output: 3\n",
    "Explanation: The answer is \"wke\", with the length of 3.\n",
    "Notice that the answer must be a substring, \"pwke\" is a subsequence and not a substring.\n",
    "```\n",
    "\n",
    "<b> Example4: </b>\n",
    "```\n",
    "Input: s = \"\"\n",
    "Output: 0\n",
    "```\n",
    "\n",
    "<b> Constraints: </b>\n",
    "* 0 <= s.length <= 5 * 104\n",
    "* s consists of English letters, digits, symbols and spaces.\n"
   ]
  },
  {
   "cell_type": "markdown",
   "metadata": {},
   "source": [
    "### Personal note"
   ]
  },
  {
   "cell_type": "markdown",
   "metadata": {},
   "source": [
    "Need to carefully consider how to update ```idx``` "
   ]
  },
  {
   "cell_type": "markdown",
   "metadata": {},
   "source": [
    "### Solution"
   ]
  },
  {
   "cell_type": "code",
   "execution_count": 1,
   "metadata": {},
   "outputs": [],
   "source": [
    "class Solution(object):\n",
    "    def lengthOfLongestSubstring(self, s):        \n",
    "        h_table = {}\n",
    "        longest = \"\"        \n",
    "        idx = 0\n",
    "        \n",
    "        for i, letter in enumerate(s):\n",
    "            if letter in h_table:\n",
    "                idx = max(idx, h_table[letter]+1)\n",
    "            h_table[letter] = i\n",
    "            current = s[idx: i+1]\n",
    "            if len(current) > len(longest):\n",
    "                longest = current\n",
    "        return len(longest)"
   ]
  },
  {
   "cell_type": "code",
   "execution_count": 4,
   "metadata": {},
   "outputs": [
    {
     "name": "stdout",
     "output_type": "stream",
     "text": [
      "4\n"
     ]
    }
   ],
   "source": [
    "s = Solution()\n",
    "print(s.lengthOfLongestSubstring(\"abcbad\"))"
   ]
  },
  {
   "cell_type": "code",
   "execution_count": null,
   "metadata": {},
   "outputs": [],
   "source": []
  },
  {
   "cell_type": "code",
   "execution_count": null,
   "metadata": {},
   "outputs": [],
   "source": []
  }
 ],
 "metadata": {
  "kernelspec": {
   "display_name": "Python 3",
   "language": "python",
   "name": "python3"
  },
  "language_info": {
   "codemirror_mode": {
    "name": "ipython",
    "version": 3
   },
   "file_extension": ".py",
   "mimetype": "text/x-python",
   "name": "python",
   "nbconvert_exporter": "python",
   "pygments_lexer": "ipython3",
   "version": "3.7.7"
  }
 },
 "nbformat": 4,
 "nbformat_minor": 4
}
