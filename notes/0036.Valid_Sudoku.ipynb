{
 "cells": [
  {
   "cell_type": "markdown",
   "metadata": {},
   "source": [
    "### Description\n",
    "url: https://leetcode.com/problems/valid-sudoku/\n",
    "\n",
    "Determine if a 9 x 9 Sudoku board is valid. Only the filled cells need to be validated according to the following rules:\n",
    "\n",
    "    Each row must contain the digits 1-9 without repetition.\n",
    "    Each column must contain the digits 1-9 without repetition.\n",
    "    Each of the nine 3 x 3 sub-boxes of the grid must contain the digits 1-9 without repetition.\n"
   ]
  },
  {
   "cell_type": "markdown",
   "metadata": {
    "pycharm": {
     "name": "#%% md\n"
    }
   },
   "source": [
    "### Personal note\n",
    "\n",
    "* col_holder = {col_idx: {entries}, col_idx: {entries}, ..., col_idx: {entries}}\n",
    "* box_holder = {box_idx: {entries}, box_idx: {entries}, ..., box_idx: {entries}}"
   ]
  },
  {
   "cell_type": "code",
   "execution_count": 1,
   "metadata": {
    "pycharm": {
     "name": "#%%\n"
    }
   },
   "outputs": [],
   "source": [
    "class Solution(object):\n",
    "    def isValidSudoku(self, board):\n",
    "        \"\"\"\n",
    "        :type board: List[List[str]]\n",
    "        :rtype: bool\n",
    "        \"\"\"\n",
    "        col_holder = dict()\n",
    "        box_holder = dict()\n",
    "        for r_idx in range(9):\n",
    "            tmp = dict()\n",
    "            for c_idx in range(9):\n",
    "                box_idx = (r_idx//3)*3 + (c_idx//3)\n",
    "                value = board[r_idx][c_idx]\n",
    "                if c_idx not in col_holder:\n",
    "                    col_holder[c_idx] = dict()\n",
    "                if box_idx not in box_holder:\n",
    "                    box_holder[box_idx] = dict()\n",
    "                if value == '.':\n",
    "                    continue\n",
    "                elif value in tmp or value in col_holder[c_idx] or value in box_holder[box_idx]:\n",
    "                    return False\n",
    "                else:\n",
    "                    tmp[value] = 1\n",
    "                    col_holder[c_idx][value] = 1\n",
    "                    box_holder[box_idx][value] = 1\n",
    "        return True"
   ]
  }
 ],
 "metadata": {
  "kernelspec": {
   "display_name": "Python 3",
   "language": "python",
   "name": "python3"
  },
  "language_info": {
   "codemirror_mode": {
    "name": "ipython",
    "version": 3
   },
   "file_extension": ".py",
   "mimetype": "text/x-python",
   "name": "python",
   "nbconvert_exporter": "python",
   "pygments_lexer": "ipython3",
   "version": "3.7.6"
  }
 },
 "nbformat": 4,
 "nbformat_minor": 4
}
