{
 "cells": [
  {
   "cell_type": "markdown",
   "metadata": {},
   "source": [
    "### Description\n",
    "url: https://leetcode.com/problems/valid-sudoku/\n",
    "\n",
    "Determine if a 9 x 9 Sudoku board is valid. Only the filled cells need to be validated according to the following rules:\n",
    "\n",
    "    Each row must contain the digits 1-9 without repetition.\n",
    "    Each column must contain the digits 1-9 without repetition.\n",
    "    Each of the nine 3 x 3 sub-boxes of the grid must contain the digits 1-9 without repetition.\n"
   ]
  },
  {
   "cell_type": "markdown",
   "metadata": {
    "pycharm": {
     "name": "#%% md\n"
    }
   },
   "source": [
    "### Personal note\n",
    "\n",
    "\n",
    "* Reset ```row_dict``` if ```column_index``` = 0\n",
    "* column_holder = {0: {entries},\n",
    "                   1: {entries},\n",
    "                   ...\n",
    "                   8: {entries}}\n",
    "* box_holder = {0: {entries},\n",
    "                1: {entries},\n",
    "                ...\n",
    "                8: {entries}}\n",
    "              \n",
    "\n"
   ]
  },
  {
   "cell_type": "code",
   "execution_count": 1,
   "metadata": {
    "pycharm": {
     "name": "#%%\n"
    }
   },
   "outputs": [],
   "source": [
    "class Solution(object):\n",
    "    def myAtoi(self, s):\n",
    "        \"\"\"\n",
    "        :type s: str\n",
    "        :rtype: int\n",
    "        \"\"\"\n",
    "        # step0: discard beginning white spaces\n",
    "        # step1: consider plus or minus sign followed by as many numerical digits as possible        \n",
    "        # step2: interpret them a s a numerical value\n",
    "        \n",
    "        # additional characters after integral number are ignored\n",
    "        # if no sequence exists or the first sequence is not number, no conversion.\n",
    "        \n",
    "        # no conversion -> zero.\n",
    "        s = s.strip()\n",
    "        \n",
    "        if not s:\n",
    "            return 0\n",
    "        \n",
    "        sign = 1\n",
    "        if '-' == s[0]:\n",
    "            sign = - 1\n",
    "            s = s[1::]\n",
    "        elif '+' == s[0]:\n",
    "            s = s[1::]\n",
    "        \n",
    "        # iterate until meet a character \n",
    "        num = \"\"\n",
    "        for letter in s:\n",
    "            if letter.isnumeric():\n",
    "                num += letter\n",
    "            else:\n",
    "                break\n",
    "        if num:\n",
    "            num = int(float(num)) * sign\n",
    "            return min(max(-2**31, num), 2**31 -1)               \n",
    "        else:\n",
    "            return 0"
   ]
  }
 ],
 "metadata": {
  "kernelspec": {
   "display_name": "Python 3",
   "language": "python",
   "name": "python3"
  },
  "language_info": {
   "codemirror_mode": {
    "name": "ipython",
    "version": 3
   },
   "file_extension": ".py",
   "mimetype": "text/x-python",
   "name": "python",
   "nbconvert_exporter": "python",
   "pygments_lexer": "ipython3",
   "version": "3.7.9"
  }
 },
 "nbformat": 4,
 "nbformat_minor": 4
}
