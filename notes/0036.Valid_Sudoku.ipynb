{
 "cells": [
  {
   "cell_type": "markdown",
   "metadata": {},
   "source": [
    "### Description\n",
    "url: https://leetcode.com/problems/valid-sudoku/\n",
    "\n",
    "Determine if a 9 x 9 Sudoku board is valid. Only the filled cells need to be validated according to the following rules:\n",
    "\n",
    "    Each row must contain the digits 1-9 without repetition.\n",
    "    Each column must contain the digits 1-9 without repetition.\n",
    "    Each of the nine 3 x 3 sub-boxes of the grid must contain the digits 1-9 without repetition.\n"
   ]
  },
  {
   "cell_type": "markdown",
   "metadata": {
    "pycharm": {
     "name": "#%% md\n"
    }
   },
   "source": [
    "### Personal note\n",
    "\n",
    "\n",
    "* Reset ```current_row``` if ```column_index``` = 0\n",
    "* column_holder = {0: {entries}, 1: {entries}, ..., 8: {entries}}\n",
    "* box_holder = {0: {entries}, 1: {entries},...8: {entries}}"
   ]
  },
  {
   "cell_type": "code",
   "execution_count": 1,
   "metadata": {
    "pycharm": {
     "name": "#%%\n"
    }
   },
   "outputs": [],
   "source": [
    "class Solution:\n",
    "    def isValidSudoku(self, board):\n",
    "        col_holder = dict()\n",
    "        box_list = dict()\n",
    "        for row_idx in range(9):\n",
    "            current_row = dict()\n",
    "            for col_idx in range(9):\n",
    "                value = board[row_idx][col_idx]\n",
    "                box_idx = int(row_idx / 3) * 3 + int(col_idx / 3)\n",
    "                if box_idx not in box_list:\n",
    "                    box_list[box_idx] = dict()\n",
    "                if col_idx not in col_holder:\n",
    "                    col_holder[col_idx] = dict()\n",
    "\n",
    "                if value == '.':\n",
    "                    continue\n",
    "                elif value in current_row or value in col_holder[col_idx] or value in box_list[box_idx]:\n",
    "                    return False\n",
    "                else:\n",
    "                    col_holder[col_idx][value] = 1\n",
    "                    current_row[value] = 1\n",
    "                    box_list[box_idx][value] = 1\n",
    "        return True"
   ]
  }
 ],
 "metadata": {
  "kernelspec": {
   "display_name": "Python 3",
   "language": "python",
   "name": "python3"
  },
  "language_info": {
   "codemirror_mode": {
    "name": "ipython",
    "version": 3
   },
   "file_extension": ".py",
   "mimetype": "text/x-python",
   "name": "python",
   "nbconvert_exporter": "python",
   "pygments_lexer": "ipython3",
   "version": "3.7.9"
  }
 },
 "nbformat": 4,
 "nbformat_minor": 4
}
