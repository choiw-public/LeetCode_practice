{
 "cells": [
  {
   "cell_type": "markdown",
   "metadata": {},
   "source": [
    "### Description\n",
    "url: https://leetcode.com/problems/first-missing-positive/\n",
    "\n",
    "Given an unsorted integer array nums, find the smallest missing positive integer.\n",
    "\n",
    "Follow up: Could you implement an algorithm that runs in O(n) time and uses constant extra space.?"
   ]
  },
  {
   "cell_type": "markdown",
   "source": [
    "### Notes\n",
    "\n",
    "\n",
    "* Consider `[ ]`"
   ],
   "metadata": {
    "collapsed": false
   }
  },
  {
   "cell_type": "markdown",
   "metadata": {},
   "source": [
    "#### * time complexity of O(n) & space complexisty of O(n)"
   ]
  },
  {
   "cell_type": "markdown",
   "metadata": {
    "pycharm": {
     "name": "#%% md\n"
    }
   },
   "source": [
    "#### * time complexity of O(n) & space complexisty of O(n)"
   ]
  },
  {
   "cell_type": "code",
   "execution_count": 1,
   "metadata": {
    "pycharm": {
     "name": "#%%\n"
    }
   },
   "outputs": [],
   "source": [
    "class Solution(object):\n",
    "    def firstMissingPositive(self, nums):\n",
    "        \"\"\"\n",
    "        :type nums: List[int]\n",
    "        :rtype: int\n",
    "        \"\"\"\n",
    "        candidates = list(range(1, len(nums) + 1))\n",
    "        for n in nums:\n",
    "            if n in candidates:\n",
    "                candidates.remove(n)\n",
    "        if candidates:\n",
    "            return min(candidates)\n",
    "        return len(nums) + 1"
   ]
  },
  {
   "cell_type": "markdown",
   "metadata": {},
   "source": [
    "#### * time complexity of O(n) & space complexisty of O(1)"
   ]
  },
  {
   "cell_type": "code",
   "execution_count": null,
   "metadata": {},
   "outputs": [],
   "source": [
    "class Solution(object):\n",
    "    def firstMissingPositive(self, nums):\n",
    "        \"\"\"\n",
    "        :type nums: List[int]\n",
    "        :rtype: int\n",
    "        \"\"\"\n",
    "        i=0\n",
    "        while i < len(nums):\n",
    "            if 1 <= nums[i] < len(nums):\n",
    "                idx = nums[i] - 1\n",
    "                nums[i], nums[idx] = nums[idx], nums[i]\n",
    "            if not 1 <= nums[i] < len(nums) or nums[i] == nums[idx]:\n",
    "                i += 1\n",
    "        for i in range(len(nums)):\n",
    "            if i + 1 != nums[i]:\n",
    "                return i + 1\n",
    "        return len(nums) + 1"
   ]
  }
 ],
 "metadata": {
  "kernelspec": {
   "display_name": "Python 3",
   "language": "python",
   "name": "python3"
  },
  "language_info": {
   "codemirror_mode": {
    "name": "ipython",
    "version": 3
   },
   "file_extension": ".py",
   "mimetype": "text/x-python",
   "name": "python",
   "nbconvert_exporter": "python",
   "pygments_lexer": "ipython3",
   "version": "3.7.9"
  }
 },
 "nbformat": 4,
 "nbformat_minor": 4
}