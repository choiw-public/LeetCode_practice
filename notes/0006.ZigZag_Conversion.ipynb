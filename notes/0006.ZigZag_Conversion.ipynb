{
 "cells": [
  {
   "cell_type": "markdown",
   "metadata": {},
   "source": [
    "### Description"
   ]
  },
  {
   "cell_type": "markdown",
   "metadata": {},
   "source": [
    "https://leetcode.com/problems/zigzag-conversion/\n"
   ]
  },
  {
   "cell_type": "markdown",
   "metadata": {},
   "source": [
    "### Personal note"
   ]
  },
  {
   "cell_type": "markdown",
   "metadata": {},
   "source": [
    "None\n"
   ]
  },
  {
   "cell_type": "code",
   "execution_count": 1,
   "metadata": {},
   "outputs": [],
   "source": [
    "class Solution(object):\n",
    "    def convert(self, s, numRows):\n",
    "        \"\"\"\n",
    "        :type s: str\n",
    "        :type numRows: int\n",
    "        :rtype: str\n",
    "        \"\"\"\n",
    "        if not s:\n",
    "            return \"\"\n",
    "        str_out = \"\"\n",
    "\n",
    "        for i in range(numRows):\n",
    "            j, idx = 1, 0\n",
    "            str_out += s[i]\n",
    "            if numRows - 1 and len(str_out) < len(s):\n",
    "                idx = i + 2 * (numRows - 1) * j\n",
    "                while idx < len(s) or (idx - i * 2) < len(s):\n",
    "                    if 0 < i < numRows - 1:\n",
    "                        str_out += s[idx - i * 2]\n",
    "                    if idx < len(s):\n",
    "                        str_out += s[idx]\n",
    "                    j += 1\n",
    "                    idx = i + 2 * (numRows - 1) * j\n",
    "        return str_out"
   ]
  },
  {
   "cell_type": "code",
   "execution_count": 2,
   "metadata": {},
   "outputs": [
    {
     "name": "stdout",
     "output_type": "stream",
     "text": [
      "True\n",
      "True\n",
      "0\n"
     ]
    }
   ],
   "source": [
    "s = Solution()\n",
    "print(s.convert(\"PAYPALISHIRING\", 3) == \"PAHNAPLSIIGYIR\")\n",
    "print(s.convert(\"PAYPALISHIRING\", 4) == \"PINALSIGYAHRPI\")\n",
    "print(s.convert(\"0\", 1))"
   ]
  },
  {
   "cell_type": "code",
   "execution_count": null,
   "metadata": {},
   "outputs": [],
   "source": []
  },
  {
   "cell_type": "code",
   "execution_count": null,
   "metadata": {},
   "outputs": [],
   "source": []
  }
 ],
 "metadata": {
  "kernelspec": {
   "display_name": "Python 3",
   "language": "python",
   "name": "python3"
  },
  "language_info": {
   "codemirror_mode": {
    "name": "ipython",
    "version": 3
   },
   "file_extension": ".py",
   "mimetype": "text/x-python",
   "name": "python",
   "nbconvert_exporter": "python",
   "pygments_lexer": "ipython3",
   "version": "3.7.7"
  }
 },
 "nbformat": 4,
 "nbformat_minor": 4
}
