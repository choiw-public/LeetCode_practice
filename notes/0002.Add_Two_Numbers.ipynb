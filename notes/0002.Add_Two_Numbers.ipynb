{
 "cells": [
  {
   "cell_type": "markdown",
   "metadata": {},
   "source": [
    "### Description\n",
    "https://leetcode.com/problems/add-two-numbers/\n",
    "\n",
    "You are given two non-empty linked lists representing two non-negative integers.\n",
    "The digits are stored in reverse order and each of their nodes contain a single digit.\n",
    "Add the two numbers and return it as a linked list.\n",
    "\n",
    "You may assume the two numbers do not contain any leading zero, except the number 0 itself.\n",
    "\n",
    "Example:\n",
    "\n",
    "Input: (2 -> 4 -> 3) + (5 -> 6 -> 4)\n",
    "Output: 7 -> 0 -> 8\n",
    "Explanation: 342 + 465 = 807.\n",
    "\n",
    "### Personal note\n",
    "* Need to be aware that \"ListNode\" initialize val=0."
   ]
  },
  {
   "cell_type": "markdown",
   "metadata": {},
   "source": [
    "### Premise"
   ]
  },
  {
   "cell_type": "code",
   "execution_count": null,
   "metadata": {},
   "outputs": [],
   "source": [
    "class ListNode:\n",
    "    def __init__(self, val=0, next=None):\n",
    "        self.val = val\n",
    "        self.next = next\n",
    "\n",
    "\n",
    "l1 = ListNode(2)\n",
    "l1.next = ListNode(4)\n",
    "l1.next.next = ListNode(3)\n",
    "l2 = ListNode(5)\n",
    "l2.next = ListNode(6)\n",
    "l2.next.next = ListNode(4)\n",
    "def print_linked_list(l):\n",
    "    while l:\n",
    "        print(l.val)\n",
    "        l = l.next"
   ]
  },
  {
   "cell_type": "markdown",
   "metadata": {
    "pycharm": {
     "name": "#%% md\n"
    }
   },
   "source": [
    "### Solution"
   ]
  },
  {
   "cell_type": "code",
   "execution_count": null,
   "metadata": {
    "pycharm": {
     "name": "#%%\n"
    }
   },
   "outputs": [],
   "source": [
    "class Solution:\n",
    "    def addTwoNumbers(self, l1, l2):\n",
    "        carry = 0\n",
    "        root = new_node = ListNode()\n",
    "        while l1 or l2 or carry:\n",
    "            if l1:\n",
    "                carry += l1.val\n",
    "                l1 = l1.next\n",
    "            if l2:\n",
    "                carry += l2.val\n",
    "                l2 = l2.next\n",
    "            carry, val = divmod(carry, 10)\n",
    "            new_node.next = ListNode(val)\n",
    "            new_node = new_node.next\n",
    "        return root.next"
   ]
  },
  {
   "cell_type": "code",
   "execution_count": null,
   "metadata": {
    "pycharm": {
     "name": "#%%\n"
    }
   },
   "outputs": [],
   "source": [
    "s = Solution()\n",
    "ans = s.addTwoNumbers(l1, l2)\n",
    "print_linked_list(ans)\n",
    "\n",
    "l1 = ListNode(5)\n",
    "l2 = ListNode(5)\n",
    "ans = s.addTwoNumbers(l1, l2)\n",
    "s=Solution()\n",
    "s.twoSum([2,7,11,15], 9)"
   ]
  },
  {
   "cell_type": "code",
   "execution_count": 2,
   "metadata": {},
   "outputs": [
    {
     "data": {
      "text/plain": [
       "[1, 0]"
      ]
     },
     "execution_count": 2,
     "metadata": {},
     "output_type": "execute_result"
    }
   ],
   "source": [
    "s = Solution()\n",
    "ans = s.addTwoNumbers(l1, l2)\n",
    "print_linked_list(ans)\n",
    "\n",
    "l1 = ListNode(5)\n",
    "l2 = ListNode(5)\n",
    "ans = s.addTwoNumbers(l1, l2)\n",
    "s=Solution()\n",
    "s.twoSum([2,7,11,15], 9)"
   ]
  },
  {
   "cell_type": "code",
   "execution_count": null,
   "metadata": {},
   "outputs": [],
   "source": []
  }
 ],
 "metadata": {
  "kernelspec": {
   "display_name": "Python 3",
   "language": "python",
   "name": "python3"
  },
  "language_info": {
   "codemirror_mode": {
    "name": "ipython",
    "version": 3
   },
   "file_extension": ".py",
   "mimetype": "text/x-python",
   "name": "python",
   "nbconvert_exporter": "python",
   "pygments_lexer": "ipython3",
   "version": "3.7.6"
  }
 },
 "nbformat": 4,
 "nbformat_minor": 4
}
