{
 "cells": [
  {
   "cell_type": "markdown",
   "metadata": {},
   "source": [
    "### Description\n",
    "url: https://leetcode.com/problems/remove-nth-node-from-end-of-list/\n",
    "\n",
    "Given the head of a linked list, remove the nth node from the end of the list and return its head."
   ]
  },
  {
   "cell_type": "markdown",
   "metadata": {
    "pycharm": {
     "name": "#%% md\n"
    }
   },
   "source": [
    "### Personal note\n",
    "\n",
    "* Is it allowed to use ```list```?\n",
    "* Try to solve it without ```list``` next time."
   ]
  },
  {
   "cell_type": "code",
   "execution_count": 1,
   "metadata": {
    "pycharm": {
     "name": "#%%\n"
    }
   },
   "outputs": [],
   "source": [
    "class Solution(object):\n",
    "    def removeNthFromEnd(self, head, n):\n",
    "        \"\"\"\n",
    "        :type head: ListNode\n",
    "        :type n: int\n",
    "        :rtype: ListNode\n",
    "        \"\"\"\n",
    "        list_of_nodes = []\n",
    "        tmp = head\n",
    "        while tmp:\n",
    "            list_of_nodes.append(tmp)\n",
    "            tmp = tmp.next        \n",
    "        n = len(list_of_nodes) - n\n",
    "        \n",
    "        if len(list_of_nodes) == 1:\n",
    "            return None        \n",
    "        \n",
    "        if n == 0:\n",
    "            return list_of_nodes[1]\n",
    "        \n",
    "        if n+1 >= len(list_of_nodes):\n",
    "            list_of_nodes[n-1].next = None\n",
    "        else:\n",
    "            list_of_nodes[n-1].next = list_of_nodes[n+1]\n",
    "        return head"
   ]
  }
 ],
 "metadata": {
  "kernelspec": {
   "display_name": "Python 3",
   "language": "python",
   "name": "python3"
  },
  "language_info": {
   "codemirror_mode": {
    "name": "ipython",
    "version": 3
   },
   "file_extension": ".py",
   "mimetype": "text/x-python",
   "name": "python",
   "nbconvert_exporter": "python",
   "pygments_lexer": "ipython3",
   "version": "3.7.6"
  }
 },
 "nbformat": 4,
 "nbformat_minor": 4
}
